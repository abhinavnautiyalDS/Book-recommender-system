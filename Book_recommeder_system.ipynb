{
  "nbformat": 4,
  "nbformat_minor": 0,
  "metadata": {
    "colab": {
      "private_outputs": true,
      "provenance": [],
      "authorship_tag": "ABX9TyOGnd3jbDdwlEHYXkOUeMR8",
      "include_colab_link": true
    },
    "kernelspec": {
      "name": "python3",
      "display_name": "Python 3"
    },
    "language_info": {
      "name": "python"
    }
  },
  "cells": [
    {
      "cell_type": "markdown",
      "metadata": {
        "id": "view-in-github",
        "colab_type": "text"
      },
      "source": [
        "<a href=\"https://colab.research.google.com/github/abhinavnautiyalDS/Book-recommender-system/blob/main/Book_recommeder_system.ipynb\" target=\"_parent\"><img src=\"https://colab.research.google.com/assets/colab-badge.svg\" alt=\"Open In Colab\"/></a>"
      ]
    },
    {
      "cell_type": "code",
      "execution_count": null,
      "metadata": {
        "id": "fGRsu_evgxvU"
      },
      "outputs": [],
      "source": [
        "import numpy as np\n",
        "import pandas as pd\n",
        "import seaborn as sns\n",
        "import matplotlib.pyplot as plt\n"
      ]
    },
    {
      "cell_type": "markdown",
      "source": [
        "#dataset"
      ],
      "metadata": {
        "id": "2kKBSmwIhSrp"
      }
    },
    {
      "cell_type": "code",
      "source": [
        "from google.colab import drive\n",
        "drive.mount(\"/content/drive\")\n"
      ],
      "metadata": {
        "id": "IUrAQOgshQ5b"
      },
      "execution_count": null,
      "outputs": []
    },
    {
      "cell_type": "code",
      "source": [
        "Rating=pd.read_csv(\"/content/Ratings (1).csv\")\n",
        "users=pd.read_csv('/content/Users (1).csv')\n",
        "book=pd.read_csv(\"/content/Books (1).csv\")"
      ],
      "metadata": {
        "id": "FpouB5B9Doml"
      },
      "execution_count": null,
      "outputs": []
    },
    {
      "cell_type": "code",
      "source": [
        "book.shape"
      ],
      "metadata": {
        "id": "hhYvJLdGXELd"
      },
      "execution_count": null,
      "outputs": []
    },
    {
      "cell_type": "code",
      "source": [
        "Rating.shape"
      ],
      "metadata": {
        "id": "BcyntOdzbu_i"
      },
      "execution_count": null,
      "outputs": []
    },
    {
      "cell_type": "code",
      "source": [
        "users.shape"
      ],
      "metadata": {
        "id": "KdLc_MejaZtA"
      },
      "execution_count": null,
      "outputs": []
    },
    {
      "cell_type": "markdown",
      "source": [
        "###**Book dataset**"
      ],
      "metadata": {
        "id": "YegbzWQiGbtq"
      }
    },
    {
      "cell_type": "code",
      "source": [
        "len(book['Book-Title'].unique())"
      ],
      "metadata": {
        "id": "hlInlihMGaiw"
      },
      "execution_count": null,
      "outputs": []
    },
    {
      "cell_type": "code",
      "source": [
        "print(\"No of columns \",book.shape[1],\" and rows \",book.shape[0])"
      ],
      "metadata": {
        "id": "myJxGerHGkTO"
      },
      "execution_count": null,
      "outputs": []
    },
    {
      "cell_type": "code",
      "source": [
        "#checking null values\n",
        "book.isnull().sum()"
      ],
      "metadata": {
        "id": "N5pQfKBOGzM5"
      },
      "execution_count": null,
      "outputs": []
    },
    {
      "cell_type": "code",
      "source": [
        "#checking duplicate values\n",
        "print(\"duplicate values \",book.duplicated().sum())"
      ],
      "metadata": {
        "id": "mG_jcy39G7FD"
      },
      "execution_count": null,
      "outputs": []
    },
    {
      "cell_type": "code",
      "source": [
        "#info\n",
        "book.info()"
      ],
      "metadata": {
        "id": "gPnnhFvfHUtG"
      },
      "execution_count": null,
      "outputs": []
    },
    {
      "cell_type": "code",
      "source": [
        "#describe\n",
        "book.describe()"
      ],
      "metadata": {
        "id": "k7JRtMUMHYI-"
      },
      "execution_count": null,
      "outputs": []
    },
    {
      "cell_type": "markdown",
      "source": [
        "### **Rating dataset**"
      ],
      "metadata": {
        "id": "DPJ3Yc9ZHojM"
      }
    },
    {
      "cell_type": "code",
      "source": [
        "Rating.head()"
      ],
      "metadata": {
        "id": "1mYAn5c5HoTR"
      },
      "execution_count": null,
      "outputs": []
    },
    {
      "cell_type": "code",
      "source": [
        "Rating.isna().sum()"
      ],
      "metadata": {
        "id": "p6Tsa1pqHtt6"
      },
      "execution_count": null,
      "outputs": []
    },
    {
      "cell_type": "code",
      "source": [
        "print(\"No of rows \",Rating.shape[0],\"No of columns \",Rating.shape[1])"
      ],
      "metadata": {
        "id": "-ygahjf6Hwxd"
      },
      "execution_count": null,
      "outputs": []
    },
    {
      "cell_type": "code",
      "source": [
        "#duplicate values\n",
        "print(\"duplicate values \",Rating.duplicated().sum())"
      ],
      "metadata": {
        "id": "qGLjyEzzH7kF"
      },
      "execution_count": null,
      "outputs": []
    },
    {
      "cell_type": "code",
      "source": [
        "#info\n",
        "Rating.info()"
      ],
      "metadata": {
        "id": "cFCV_ZFRIKo1"
      },
      "execution_count": null,
      "outputs": []
    },
    {
      "cell_type": "code",
      "source": [
        "#describe\n",
        "\n",
        "Rating.describe()"
      ],
      "metadata": {
        "id": "pgKa_g87INjZ"
      },
      "execution_count": null,
      "outputs": []
    },
    {
      "cell_type": "markdown",
      "source": [
        "###**Users dataset**"
      ],
      "metadata": {
        "id": "MCIbu8pDIYpR"
      }
    },
    {
      "cell_type": "code",
      "source": [
        "users.head()"
      ],
      "metadata": {
        "id": "Sz2qCehEIQnq"
      },
      "execution_count": null,
      "outputs": []
    },
    {
      "cell_type": "code",
      "source": [
        "#null values\n",
        "users.isna().sum()"
      ],
      "metadata": {
        "id": "_l6d7OfzIcun"
      },
      "execution_count": null,
      "outputs": []
    },
    {
      "cell_type": "code",
      "source": [
        "#duplicate values\n",
        "print(\"duplicate rows\",users.duplicated().sum())"
      ],
      "metadata": {
        "id": "YWh5IOeSIf4Q"
      },
      "execution_count": null,
      "outputs": []
    },
    {
      "cell_type": "code",
      "source": [
        "#shape\n",
        "print(\"No of rows \",users.shape[0],\"no of columns \",users.shape[1])"
      ],
      "metadata": {
        "id": "g0LxewTBInOz"
      },
      "execution_count": null,
      "outputs": []
    },
    {
      "cell_type": "code",
      "source": [
        "#info\n",
        "users.info()"
      ],
      "metadata": {
        "id": "gDPgsOxhI2lp"
      },
      "execution_count": null,
      "outputs": []
    },
    {
      "cell_type": "code",
      "source": [
        "#describe\n",
        "users.describe()"
      ],
      "metadata": {
        "id": "4ERaDlXPI53x"
      },
      "execution_count": null,
      "outputs": []
    },
    {
      "cell_type": "markdown",
      "source": [
        "#  **Merging**"
      ],
      "metadata": {
        "id": "rnOZTxdDJAm2"
      }
    },
    {
      "cell_type": "code",
      "source": [
        "book.shape"
      ],
      "metadata": {
        "id": "V8f744g2JIVy"
      },
      "execution_count": null,
      "outputs": []
    },
    {
      "cell_type": "code",
      "source": [
        "Rating.shape"
      ],
      "metadata": {
        "id": "RZIaGtO1JKAT"
      },
      "execution_count": null,
      "outputs": []
    },
    {
      "cell_type": "code",
      "source": [
        "users.shape"
      ],
      "metadata": {
        "id": "6bvt7nkcJLmZ"
      },
      "execution_count": null,
      "outputs": []
    },
    {
      "cell_type": "code",
      "source": [
        "#since  ISBN is common between book and Rating dataset and user_id is common in Rating and users we will gonna merge them"
      ],
      "metadata": {
        "id": "TwnAfcP1I9Qr"
      },
      "execution_count": null,
      "outputs": []
    },
    {
      "cell_type": "code",
      "source": [
        "merge_df=book.merge(Rating,on='ISBN',how='inner')"
      ],
      "metadata": {
        "id": "GP7xUPMoJWqc"
      },
      "execution_count": null,
      "outputs": []
    },
    {
      "cell_type": "code",
      "source": [
        "merge_df.head()"
      ],
      "metadata": {
        "id": "tp_6P1hISEaE"
      },
      "execution_count": null,
      "outputs": []
    },
    {
      "cell_type": "code",
      "source": [
        "merge_df=merge_df.merge(users,on='User-ID',how='inner')"
      ],
      "metadata": {
        "id": "cViqM4x_Rrpt"
      },
      "execution_count": null,
      "outputs": []
    },
    {
      "cell_type": "code",
      "source": [
        "len(merge_df['Book-Title'].unique())"
      ],
      "metadata": {
        "id": "KSP4B4yoakRo"
      },
      "execution_count": null,
      "outputs": []
    },
    {
      "cell_type": "code",
      "source": [
        "len(merge_df['User-ID'].unique())"
      ],
      "metadata": {
        "id": "dn4IeLUoawht"
      },
      "execution_count": null,
      "outputs": []
    },
    {
      "cell_type": "code",
      "source": [
        "merge_df.shape"
      ],
      "metadata": {
        "id": "MJ9sFceHa4RW"
      },
      "execution_count": null,
      "outputs": []
    },
    {
      "cell_type": "markdown",
      "source": [
        "#**Mege_df**"
      ],
      "metadata": {
        "id": "4KsTDGx0JoBK"
      }
    },
    {
      "cell_type": "code",
      "source": [
        "merge_df.head()"
      ],
      "metadata": {
        "id": "hoTWZA_TJrgA"
      },
      "execution_count": null,
      "outputs": []
    },
    {
      "cell_type": "code",
      "source": [
        "#null values\n",
        "merge_df.isna().sum()"
      ],
      "metadata": {
        "id": "_lBsZJGyJ5Y8"
      },
      "execution_count": null,
      "outputs": []
    },
    {
      "cell_type": "markdown",
      "source": [
        "##### **Handling null and outlier value in Age column**"
      ],
      "metadata": {
        "id": "1s3j4M3KKtYa"
      }
    },
    {
      "cell_type": "code",
      "source": [
        "print(\"Age columnn cotain \",round(merge_df['Age'].isna().sum()*100/merge_df.shape[0],2),\"% null values\")"
      ],
      "metadata": {
        "id": "dBhK2CddJ-ZR"
      },
      "execution_count": null,
      "outputs": []
    },
    {
      "cell_type": "code",
      "source": [
        "x=merge_df.Age.plot(kind='box')"
      ],
      "metadata": {
        "id": "NLISKZMBKaNW"
      },
      "execution_count": null,
      "outputs": []
    },
    {
      "cell_type": "code",
      "source": [
        "#Handling outlier\n",
        "merge_df.Age.describe()"
      ],
      "metadata": {
        "id": "z23zgR73K1bM"
      },
      "execution_count": null,
      "outputs": []
    },
    {
      "cell_type": "code",
      "source": [
        "merge_df[\"Age\"].quantile(0.99)\n"
      ],
      "metadata": {
        "id": "-1DPMC0PLN3d"
      },
      "execution_count": null,
      "outputs": []
    },
    {
      "cell_type": "markdown",
      "source": [
        "**Minimum age is zero and maximum age is 244 which is not possible , so i am replacing value less then 10 with 5 percentile value and value greater than 69 with 98 percentile value**\n"
      ],
      "metadata": {
        "id": "RL9OIDIDLA3d"
      }
    },
    {
      "cell_type": "code",
      "source": [
        "merge_df.shape"
      ],
      "metadata": {
        "id": "-nMsQObXMIR9"
      },
      "execution_count": null,
      "outputs": []
    },
    {
      "cell_type": "code",
      "source": [
        "import numpy as np\n",
        "\n",
        "lower_bound = merge_df[\"Age\"].quantile(0.05)  # 5th percentile\n",
        "upper_bound = merge_df[\"Age\"].quantile(0.98)  # 98th percentile\n",
        "\n",
        "merge_df[\"Age2\"] = np.where(merge_df[\"Age\"] < 10, lower_bound,\n",
        "                            np.where(merge_df[\"Age\"] > 69, upper_bound, merge_df[\"Age\"]))\n"
      ],
      "metadata": {
        "id": "r5dkQPxGMR02"
      },
      "execution_count": null,
      "outputs": []
    },
    {
      "cell_type": "code",
      "source": [
        "merge_df"
      ],
      "metadata": {
        "id": "aYSkMZeXN6cm"
      },
      "execution_count": null,
      "outputs": []
    },
    {
      "cell_type": "code",
      "source": [
        "#Handling outliers\n",
        "#replace null values with mean value\n",
        "\n",
        "merge_df.Age2=merge_df.Age2.fillna(merge_df.Age2.mean())\n"
      ],
      "metadata": {
        "id": "TGnm4fR0OAPK"
      },
      "execution_count": null,
      "outputs": []
    },
    {
      "cell_type": "code",
      "source": [
        "merge_df.Age2=merge_df.Age2.astype('int')"
      ],
      "metadata": {
        "id": "9L6UJfHAOWwQ"
      },
      "execution_count": null,
      "outputs": []
    },
    {
      "cell_type": "code",
      "source": [
        "merge_df.Age.plot(kind='box')"
      ],
      "metadata": {
        "id": "4o8IN-ELOi6n"
      },
      "execution_count": null,
      "outputs": []
    },
    {
      "cell_type": "code",
      "source": [
        "merge_df.Age2.plot(kind='box')"
      ],
      "metadata": {
        "id": "IAl_cuCIOqXd"
      },
      "execution_count": null,
      "outputs": []
    },
    {
      "cell_type": "code",
      "source": [
        "merge_df=merge_df.dropna()\n",
        "merge_df.isna().sum()"
      ],
      "metadata": {
        "id": "DNUS2UwXOzor"
      },
      "execution_count": null,
      "outputs": []
    },
    {
      "cell_type": "markdown",
      "source": [
        "## **Checking bookRating**"
      ],
      "metadata": {
        "id": "woK9sL_UPCP5"
      }
    },
    {
      "cell_type": "code",
      "source": [
        "merge_df['Book-Rating'].plot(kind='box')"
      ],
      "metadata": {
        "id": "V1kmhBOdPFJv"
      },
      "execution_count": null,
      "outputs": []
    },
    {
      "cell_type": "code",
      "source": [
        "#no outlier no missing value"
      ],
      "metadata": {
        "id": "PNtNo-3UPPl9"
      },
      "execution_count": null,
      "outputs": []
    },
    {
      "cell_type": "markdown",
      "source": [
        "###**Checking unique values**"
      ],
      "metadata": {
        "id": "08dIe0nzPaQw"
      }
    },
    {
      "cell_type": "code",
      "source": [
        "merge_df['Book-Title'].unique()"
      ],
      "metadata": {
        "id": "RMXYtw4pPg5b"
      },
      "execution_count": null,
      "outputs": []
    },
    {
      "cell_type": "code",
      "source": [
        "merge_df['Book-Author'].unique()"
      ],
      "metadata": {
        "id": "_NnNgXt_Pv9U"
      },
      "execution_count": null,
      "outputs": []
    },
    {
      "cell_type": "code",
      "source": [
        "merge_df['Year-Of-Publication']=merge_df['Year-Of-Publication'].astype('int') #this was in object format convert it in string"
      ],
      "metadata": {
        "id": "7kBvU5nSP5Pw"
      },
      "execution_count": null,
      "outputs": []
    },
    {
      "cell_type": "code",
      "source": [
        "merge_df['Year-Of-Publication'].describe()"
      ],
      "metadata": {
        "id": "P4OM-QvxQTK_"
      },
      "execution_count": null,
      "outputs": []
    },
    {
      "cell_type": "code",
      "source": [
        "#2050 mein kan si book publish hui hai its is not possible\n",
        "merge_df = merge_df[(merge_df['Year-Of-Publication'] <= 2025) &\n",
        "                     (merge_df['Year-Of-Publication'] >= merge_df[\"Year-Of-Publication\"].quantile(0.02))]\n"
      ],
      "metadata": {
        "id": "yI0QyIgdQ60H"
      },
      "execution_count": null,
      "outputs": []
    },
    {
      "cell_type": "code",
      "source": [
        "#i have remove books which were publish after 2025 and before 1968 , these rows were 29"
      ],
      "metadata": {
        "id": "UNp7avwlS9me"
      },
      "execution_count": null,
      "outputs": []
    },
    {
      "cell_type": "code",
      "source": [
        "merge_df['Year-Of-Publication'].describe()"
      ],
      "metadata": {
        "id": "3VykRD81R4g7"
      },
      "execution_count": null,
      "outputs": []
    },
    {
      "cell_type": "code",
      "source": [
        "#"
      ],
      "metadata": {
        "id": "f45AquzRSWFo"
      },
      "execution_count": null,
      "outputs": []
    },
    {
      "cell_type": "markdown",
      "source": [
        "**publisher**"
      ],
      "metadata": {
        "id": "PStlnxXJTOU0"
      }
    },
    {
      "cell_type": "code",
      "source": [
        "merge_df['Publisher'].unique()\n"
      ],
      "metadata": {
        "id": "7y2yKupLSWLj"
      },
      "execution_count": null,
      "outputs": []
    },
    {
      "cell_type": "markdown",
      "source": [
        "**User-ID**"
      ],
      "metadata": {
        "id": "064_nK7dTZte"
      }
    },
    {
      "cell_type": "code",
      "source": [
        "merge_df['User-ID'].unique()"
      ],
      "metadata": {
        "id": "V5QO3EewSAKR"
      },
      "execution_count": null,
      "outputs": []
    },
    {
      "cell_type": "markdown",
      "source": [
        "**Location**"
      ],
      "metadata": {
        "id": "cDAsW-xiTf96"
      }
    },
    {
      "cell_type": "code",
      "source": [
        "merge_df['Location'].unique()"
      ],
      "metadata": {
        "id": "t3U9O_YETfjm"
      },
      "execution_count": null,
      "outputs": []
    },
    {
      "cell_type": "code",
      "source": [
        "len(merge_df['Book-Title'].unique())"
      ],
      "metadata": {
        "id": "I0OBeRLWbJaK"
      },
      "execution_count": null,
      "outputs": []
    },
    {
      "cell_type": "markdown",
      "source": [
        "### **checking duplicate columns**"
      ],
      "metadata": {
        "id": "2bE3TLFfTwgR"
      }
    },
    {
      "cell_type": "code",
      "source": [
        "len(merge_df['User-ID'].unique())"
      ],
      "metadata": {
        "id": "rIAFR_OiT1HA"
      },
      "execution_count": null,
      "outputs": []
    },
    {
      "cell_type": "code",
      "source": [
        "merge_df[\"Image-URL-M\"].equals(merge_df[\"Image-URL-L\"])\n"
      ],
      "metadata": {
        "id": "QvT_NMMzTzDh"
      },
      "execution_count": null,
      "outputs": []
    },
    {
      "cell_type": "code",
      "source": [
        "merge_df[\"Image-URL-M\"].equals(merge_df[\"Image-URL-S\"])\n"
      ],
      "metadata": {
        "id": "NfrRiMzZUCwQ"
      },
      "execution_count": null,
      "outputs": []
    },
    {
      "cell_type": "code",
      "source": [
        "merge_df[\"Image-URL-L\"].equals(merge_df[\"Image-URL-S\"])\n"
      ],
      "metadata": {
        "id": "A43alVqfUGWH"
      },
      "execution_count": null,
      "outputs": []
    },
    {
      "cell_type": "markdown",
      "source": [
        "#**Exploratory Data Analysis (EDA)**"
      ],
      "metadata": {
        "id": "sWocyck51Jn8"
      }
    },
    {
      "cell_type": "code",
      "source": [
        "merge_df.columns"
      ],
      "metadata": {
        "id": "5skvS5Fk1LPG"
      },
      "execution_count": null,
      "outputs": []
    },
    {
      "cell_type": "markdown",
      "source": [
        "###**Distrubution of numerical features**"
      ],
      "metadata": {
        "id": "4ouLobZv1a1n"
      }
    },
    {
      "cell_type": "code",
      "source": [
        "\n",
        "def visualise_numerical(df):\n",
        "\n",
        "    numerical_features = ['Year-Of-Publication', 'User-ID', 'Book-Rating', 'Age2']\n",
        "\n",
        "    # Filter only numerical features present in the DataFrame\n",
        "    numerical_features = [col for col in numerical_features if col in merge_df.columns]\n",
        "\n",
        "    if not numerical_features:\n",
        "        print(\"No numerical features found in the dataset.\")\n",
        "        return\n",
        "\n",
        "    # Set figure size\n",
        "    plt.figure(figsize=(15, 10))\n",
        "\n",
        "    # Plot each numerical feature\n",
        "    for i, feature in enumerate(numerical_features, 1):\n",
        "        plt.subplot(2, 3, i)  # Create subplots\n",
        "        sns.histplot(merge_df[feature].dropna(), bins=30, kde=True, color=\"skyblue\")\n",
        "        plt.title(f'Histogram of {feature}')\n",
        "        plt.xlabel(feature)\n",
        "        plt.ylabel('Frequency')\n",
        "\n",
        "    plt.tight_layout()\n",
        "    plt.show()\n"
      ],
      "metadata": {
        "id": "-jRmb8Uc1eQn"
      },
      "execution_count": null,
      "outputs": []
    },
    {
      "cell_type": "code",
      "source": [
        "print(visualise_numerical(merge_df))"
      ],
      "metadata": {
        "id": "gCa8ix8X2E-L"
      },
      "execution_count": null,
      "outputs": []
    },
    {
      "cell_type": "code",
      "source": [
        "# most of the books are published in the early 2000's\n",
        "# most of the books have zero rating\n",
        "# most of readers are of age 30-40"
      ],
      "metadata": {
        "id": "7BN84DYS2QMJ"
      },
      "execution_count": null,
      "outputs": []
    },
    {
      "cell_type": "markdown",
      "source": [
        "###**Top 20 Most popular books by number of votes**\n"
      ],
      "metadata": {
        "id": "G9zbq6k93Ifu"
      }
    },
    {
      "cell_type": "code",
      "source": [
        "import matplotlib.pyplot as plt\n",
        "import seaborn as sns\n",
        "\n",
        "def plot_book_title_counts(df, top_n=20):\n",
        "\n",
        "    plt.figure(figsize=(12, 6))\n",
        "\n",
        "    # Get top N most common books\n",
        "    book_counts = df['Book-Title'].value_counts().nlargest(top_n)\n",
        "\n",
        "    sns.barplot(\n",
        "        x=book_counts.index,\n",
        "        y=book_counts.values,\n",
        "        palette=\"coolwarm\"\n",
        "    )\n",
        "\n",
        "    plt.xticks(rotation=45, ha=\"right\", fontsize=10)  # Rotate for readability\n",
        "    plt.ylabel(\"Count\", fontsize=12)\n",
        "    plt.title(f\"Top {top_n} Most Common Book Titles\", fontsize=14)\n",
        "    plt.grid(axis=\"y\", linestyle=\"--\", alpha=0.7)\n",
        "\n",
        "    plt.show()\n",
        "\n",
        "plot_book_title_counts(merge_df, top_n=20)"
      ],
      "metadata": {
        "id": "oayIjwRx-Q5K"
      },
      "execution_count": null,
      "outputs": []
    },
    {
      "cell_type": "markdown",
      "source": [
        "### **Top 20 Most popular authors by number of votes**"
      ],
      "metadata": {
        "id": "j_l5zBw4--GW"
      }
    },
    {
      "cell_type": "code",
      "source": [
        "merge_df.columns"
      ],
      "metadata": {
        "id": "CzZNQJME_LjR"
      },
      "execution_count": null,
      "outputs": []
    },
    {
      "cell_type": "code",
      "source": [
        "import matplotlib.pyplot as plt\n",
        "import seaborn as sns\n",
        "\n",
        "def plot_book_title_counts(df, top_n=20):\n",
        "\n",
        "    plt.figure(figsize=(12, 6))\n",
        "\n",
        "    # Get top N most common books\n",
        "    book_counts = df['Book-Author'].value_counts().nlargest(top_n)\n",
        "\n",
        "    sns.barplot(\n",
        "        x=book_counts.index,\n",
        "        y=book_counts.values,\n",
        "        palette=\"coolwarm\"\n",
        "    )\n",
        "\n",
        "    plt.xticks(rotation=45, ha=\"right\", fontsize=10)  # Rotate for readability\n",
        "    plt.ylabel(\"Count\", fontsize=12)\n",
        "    plt.title(f\"Top {top_n} Most popular Authors\", fontsize=14)\n",
        "    plt.grid(axis=\"y\", linestyle=\"--\", alpha=0.7)\n",
        "\n",
        "    plt.show()\n",
        "\n",
        "plot_book_title_counts(merge_df, top_n=20)"
      ],
      "metadata": {
        "id": "kdNjQ2JM_GCI"
      },
      "execution_count": null,
      "outputs": []
    },
    {
      "cell_type": "markdown",
      "source": [
        "### **Most popular publisher**"
      ],
      "metadata": {
        "id": "ENpwOkkW_bZF"
      }
    },
    {
      "cell_type": "code",
      "source": [
        "import matplotlib.pyplot as plt\n",
        "import seaborn as sns\n",
        "\n",
        "def plot_book_title_counts(df, top_n=20):\n",
        "\n",
        "    plt.figure(figsize=(12, 6))\n",
        "\n",
        "    # Get top N most common books\n",
        "    book_counts = df['Publisher'].value_counts().nlargest(top_n)\n",
        "\n",
        "    sns.barplot(\n",
        "        x=book_counts.index,\n",
        "        y=book_counts.values,\n",
        "        palette=\"coolwarm\"\n",
        "    )\n",
        "\n",
        "    plt.xticks(rotation=45, ha=\"right\", fontsize=10)  # Rotate for readability\n",
        "    plt.ylabel(\"Count\", fontsize=12)\n",
        "    plt.title(f\"Top {top_n} Most popular Publishers\", fontsize=14)\n",
        "    plt.grid(axis=\"y\", linestyle=\"--\", alpha=0.7)\n",
        "\n",
        "    plt.show()\n",
        "\n",
        "plot_book_title_counts(merge_df, top_n=20)"
      ],
      "metadata": {
        "id": "-MbtLAA8_dqI"
      },
      "execution_count": null,
      "outputs": []
    },
    {
      "cell_type": "code",
      "source": [
        "merge_df.columns"
      ],
      "metadata": {
        "id": "ucRw2At0_oT1"
      },
      "execution_count": null,
      "outputs": []
    },
    {
      "cell_type": "markdown",
      "source": [
        "### **The best book reader**"
      ],
      "metadata": {
        "id": "-vjNDfKb_wE_"
      }
    },
    {
      "cell_type": "code",
      "source": [
        "import matplotlib.pyplot as plt\n",
        "import seaborn as sns\n",
        "\n",
        "def plot_book_title_counts(df, top_n=20):\n",
        "\n",
        "    plt.figure(figsize=(12, 6))\n",
        "\n",
        "    # Get top N most common books\n",
        "    book_counts = df['User-ID'].value_counts().sort_values(ascending=False).nlargest(top_n)\n",
        "\n",
        "    sns.barplot(\n",
        "        x=book_counts.index,\n",
        "        y=book_counts.values,\n",
        "        palette=\"coolwarm\"\n",
        "    )\n",
        "\n",
        "    plt.xticks(rotation=45, ha=\"right\", fontsize=10)  # Rotate for readability\n",
        "    plt.ylabel(\"Count\", fontsize=12)\n",
        "    plt.title(f\"Top {top_n} Best book enthusiast\", fontsize=14)\n",
        "    plt.grid(axis=\"y\", linestyle=\"--\", alpha=0.7)\n",
        "\n",
        "    plt.show()\n",
        "\n",
        "plot_book_title_counts(merge_df, top_n=20)"
      ],
      "metadata": {
        "id": "2L313epg_2Vr"
      },
      "execution_count": null,
      "outputs": []
    },
    {
      "cell_type": "code",
      "source": [
        "merge_df.columns"
      ],
      "metadata": {
        "id": "nNOfS3YsIH_8"
      },
      "execution_count": null,
      "outputs": []
    },
    {
      "cell_type": "markdown",
      "source": [
        "Best location for readers"
      ],
      "metadata": {
        "id": "wh9RNr3KILwN"
      }
    },
    {
      "cell_type": "markdown",
      "source": [
        "## **feature engneering**"
      ],
      "metadata": {
        "id": "GNyEhKEpI7Gj"
      }
    },
    {
      "cell_type": "markdown",
      "source": [
        "**location conatin , city , state and contry information so i am gonna split theses**"
      ],
      "metadata": {
        "id": "g5Dn2sGDrRRm"
      }
    },
    {
      "cell_type": "code",
      "source": [
        "merge_df['City']=merge_df['Location'].str.replace(r'^\\d+\\s*', '', regex=True).str.split(',').str[0].str.strip()\n"
      ],
      "metadata": {
        "id": "tKyVJEDHJDJP"
      },
      "execution_count": null,
      "outputs": []
    },
    {
      "cell_type": "code",
      "source": [
        "merge_df['State']=merge_df['Location'].str.replace(r'^\\d+\\s*', '', regex=True).str.split(',').str[1].str.strip()\n"
      ],
      "metadata": {
        "id": "rewHqlsNJ5CK"
      },
      "execution_count": null,
      "outputs": []
    },
    {
      "cell_type": "code",
      "source": [
        "merge_df['Country']=merge_df['Location'].str.replace(r'^\\d+\\s*', '', regex=True).str.split(',').str[2].str.strip()"
      ],
      "metadata": {
        "id": "MpErQZroKBwc"
      },
      "execution_count": null,
      "outputs": []
    },
    {
      "cell_type": "code",
      "source": [
        "df=merge_df.copy()"
      ],
      "metadata": {
        "id": "SfEMuPExKG2g"
      },
      "execution_count": null,
      "outputs": []
    },
    {
      "cell_type": "code",
      "source": [
        "import matplotlib.pyplot as plt\n",
        "import seaborn as sns\n",
        "\n",
        "def plot_book_title_counts(df, top_n=20):\n",
        "\n",
        "    plt.figure(figsize=(12, 6))\n",
        "\n",
        "    # Get top N most common books\n",
        "    book_counts = df['Country'].value_counts().sort_values(ascending=False).nlargest(top_n)\n",
        "\n",
        "    sns.barplot(\n",
        "        x=book_counts.index,\n",
        "        y=book_counts.values,\n",
        "        palette=\"coolwarm\"\n",
        "    )\n",
        "\n",
        "    plt.xticks(rotation=45, ha=\"right\", fontsize=10)  # Rotate for readability\n",
        "    plt.ylabel(\"Count\", fontsize=12)\n",
        "    plt.title(f\"Top {top_n} Reader's country\", fontsize=14)\n",
        "    plt.grid(axis=\"y\", linestyle=\"--\", alpha=0.7)\n",
        "\n",
        "    plt.show()\n",
        "\n",
        "plot_book_title_counts(merge_df, top_n=20)"
      ],
      "metadata": {
        "id": "BovwGBRiIUox"
      },
      "execution_count": null,
      "outputs": []
    },
    {
      "cell_type": "markdown",
      "source": [
        "### **Most popular state of book lovers in USA**"
      ],
      "metadata": {
        "id": "XUae9ZCUKa76"
      }
    },
    {
      "cell_type": "code",
      "source": [
        "merge_df['Country'].unique()"
      ],
      "metadata": {
        "id": "y77KPmPVKuMa"
      },
      "execution_count": null,
      "outputs": []
    },
    {
      "cell_type": "code",
      "source": [
        "import matplotlib.pyplot as plt\n",
        "import seaborn as sns\n",
        "\n",
        "def plot_book_title_counts(df, top_n=20):\n",
        "\n",
        "    plt.figure(figsize=(12, 6))\n",
        "\n",
        "    # Get top N most common books\n",
        "    book_counts = df[df['Country']=='usa']['State'].value_counts().sort_values(ascending=False).nlargest(top_n)\n",
        "\n",
        "    sns.barplot(\n",
        "        x=book_counts.index,\n",
        "        y=book_counts.values,\n",
        "        palette=\"coolwarm\"\n",
        "    )\n",
        "\n",
        "    plt.xticks(rotation=45, ha=\"right\", fontsize=10)  # Rotate for readability\n",
        "    plt.ylabel(\"Count\", fontsize=12)\n",
        "    plt.title(f\"Top {top_n} Reader's State in USA\", fontsize=14)\n",
        "    plt.grid(axis=\"y\", linestyle=\"--\", alpha=0.7)\n",
        "\n",
        "    plt.show()\n",
        "\n",
        "plot_book_title_counts(merge_df, top_n=20)"
      ],
      "metadata": {
        "id": "4aVABoTCIj8E"
      },
      "execution_count": null,
      "outputs": []
    },
    {
      "cell_type": "code",
      "source": [
        "merge_df.columns"
      ],
      "metadata": {
        "id": "8ToZI6sloSFn"
      },
      "execution_count": null,
      "outputs": []
    },
    {
      "cell_type": "markdown",
      "source": [
        "### **Bivariant analysis**"
      ],
      "metadata": {
        "id": "hgOWoAgro6ej"
      }
    },
    {
      "cell_type": "code",
      "source": [
        "#Which publishers have the highest-rated books?\n",
        "# Get publishers with more than 200 books\n",
        "popular_publishers = merge_df['Publisher'].value_counts()\n",
        "popular_publishers = popular_publishers[popular_publishers > 200].index  # Get only the publisher names\n",
        "\n",
        "# Filter dataset for these publishers and compute average rating\n",
        "publisher_ratings = (\n",
        "    merge_df[merge_df['Publisher'].isin(popular_publishers)]\n",
        "    .groupby('Publisher')['Book-Rating']\n",
        "    .mean()\n",
        "    .sort_values(ascending=False).head(20).reset_index()\n",
        ")\n",
        "sns.barplot(data=publisher_ratings,x='Publisher',y='Book-Rating')\n",
        "plt.xticks(rotation=45, ha=\"right\", fontsize=10)\n",
        "#merge_df.groupby('Publisher')['Book-Rating'].mean().sort_values(ascending=False)"
      ],
      "metadata": {
        "id": "YbxIxcaZqfNA"
      },
      "execution_count": null,
      "outputs": []
    },
    {
      "cell_type": "markdown",
      "source": [
        "### **Model building**"
      ],
      "metadata": {
        "id": "BSL4mb49rdUP"
      }
    },
    {
      "cell_type": "markdown",
      "source": [
        "We are building a recommendor system on the basis of how much user have rated a book. and now we'll consider only those users who are exprerienced readers who have reviewed atleasr 200 books and those books having minimun 50 reviews."
      ],
      "metadata": {
        "id": "aLesOpEBD-UL"
      }
    },
    {
      "cell_type": "code",
      "source": [
        "merge_df1=merge_df.copy()"
      ],
      "metadata": {
        "id": "DtOVh9-1HAv2"
      },
      "execution_count": null,
      "outputs": []
    },
    {
      "cell_type": "code",
      "source": [
        "#filtering 1st , experienced readers\n",
        "\n",
        "filter1=merge_df['User-ID'].value_counts().reset_index()\n",
        "filter1=filter1[filter1['count']>50]\n",
        "\n",
        "merge_df=merge_df[merge_df['User-ID'].isin(filter1['User-ID'])]\n"
      ],
      "metadata": {
        "id": "-9UeskTOEikd"
      },
      "execution_count": null,
      "outputs": []
    },
    {
      "cell_type": "code",
      "source": [
        "merge_df.shape"
      ],
      "metadata": {
        "id": "D0PaXd6OSdZx"
      },
      "execution_count": null,
      "outputs": []
    },
    {
      "cell_type": "code",
      "source": [
        "merge_df"
      ],
      "metadata": {
        "id": "NzWpjE_KFw43"
      },
      "execution_count": null,
      "outputs": []
    },
    {
      "cell_type": "code",
      "source": [
        "#filter2\n",
        "\n",
        "filter2=merge_df['Book-Title'].value_counts().reset_index()\n",
        "filter2=filter2[filter2['count']>50]\n",
        "\n",
        "filter2"
      ],
      "metadata": {
        "id": "N4n9-Az9GKya"
      },
      "execution_count": null,
      "outputs": []
    },
    {
      "cell_type": "code",
      "source": [
        "merge_df=merge_df[merge_df['Book-Title'].isin(filter2['Book-Title'])]"
      ],
      "metadata": {
        "id": "P6B4Fqp4RYQz"
      },
      "execution_count": null,
      "outputs": []
    },
    {
      "cell_type": "code",
      "source": [
        "merge_df.shape"
      ],
      "metadata": {
        "id": "GbfvqH9jGgRV"
      },
      "execution_count": null,
      "outputs": []
    },
    {
      "cell_type": "code",
      "source": [
        "#checking duplicates\n",
        "merge_df['User-ID'].unique()"
      ],
      "metadata": {
        "id": "S-1Lz69vG0dj"
      },
      "execution_count": null,
      "outputs": []
    },
    {
      "cell_type": "code",
      "source": [
        "data=merge_df.pivot_table(index='Book-Title',columns='User-ID',values='Book-Rating')"
      ],
      "metadata": {
        "id": "mLGLcx56HTXk"
      },
      "execution_count": null,
      "outputs": []
    },
    {
      "cell_type": "code",
      "source": [
        "#filling null values with 0\n",
        "data.fillna(0,inplace=True)"
      ],
      "metadata": {
        "id": "4IeIK3_zIfUq"
      },
      "execution_count": null,
      "outputs": []
    },
    {
      "cell_type": "code",
      "source": [
        "data"
      ],
      "metadata": {
        "id": "jXbm_j22JSsI"
      },
      "execution_count": null,
      "outputs": []
    },
    {
      "cell_type": "code",
      "source": [
        "# now what we'll gonna do\n",
        "\n",
        "#each book is represented nth dimestionvector\n",
        "\n",
        "#so we'll cacluclate ecucleadean distance between each vector and samll desitance vectors would be similiar\n",
        "\n",
        "#for this we will calucalte cosine similarity of each book with all books and those books having higher similiar scores are considerd\n",
        "#similiar book of our target one"
      ],
      "metadata": {
        "id": "VDuDQO9WNH1m"
      },
      "execution_count": null,
      "outputs": []
    },
    {
      "cell_type": "code",
      "source": [
        "#cosine similarty\n",
        "# Cosine similarity is a metric used to measure how similar two vectors are, regardless of their magnitude. It is commonly used in text analysis, recommendation systems, and clustering problems.\n",
        "\n",
        "# Formula\n",
        "# The cosine similarity between two vectors  A and B = A.B/|A||B|\n",
        "\n",
        "\n",
        "\n",
        "# Range of Cosine Similarity\n",
        "\n",
        "# +1 → The vectors are identical (pointing in the same direction).\n",
        "\n",
        "\n",
        "# 0 → The vectors are orthogonal (no similarity).\n",
        "\n",
        "\n",
        "# −1 → The vectors are opposite (pointing in opposite directions).\n",
        "\n",
        "# Use Cases\n",
        "# Text Similarity: Represent documents as word frequency or TF-IDF vectors and compare their similarity.\n",
        "\n",
        "# Recommendation Systems: Find similar users or items based on user-item interaction vectors.\n",
        "\n",
        "# Clustering & Classification: Used in K-means clustering and nearest neighbor-based algorithms."
      ],
      "metadata": {
        "id": "_INQH0rkOyN1"
      },
      "execution_count": null,
      "outputs": []
    },
    {
      "cell_type": "markdown",
      "source": [
        "**Cosine similarity**"
      ],
      "metadata": {
        "id": "xnwMv1QmP5tw"
      }
    },
    {
      "cell_type": "code",
      "source": [
        "from sklearn.metrics.pairwise import cosine_similarity\n",
        "import numpy as np\n",
        "# Compute cosine similarity\n",
        "similarity = cosine_similarity(data)\n",
        "\n"
      ],
      "metadata": {
        "id": "ZlVCtplNPzEj"
      },
      "execution_count": null,
      "outputs": []
    },
    {
      "cell_type": "code",
      "source": [
        "similarity"
      ],
      "metadata": {
        "id": "zy27jc5uXpSd"
      },
      "execution_count": null,
      "outputs": []
    },
    {
      "cell_type": "code",
      "source": [
        "similarity.shape"
      ],
      "metadata": {
        "id": "StEZbBCARj4A"
      },
      "execution_count": null,
      "outputs": []
    },
    {
      "cell_type": "code",
      "source": [
        "sorted_similarities = sorted([(index, float(score)) for index, score in list(enumerate(similarity[0]))],key=lambda x: x[1], reverse=True)[1:10]\n",
        "\n"
      ],
      "metadata": {
        "id": "ec7Hg0MdVn7c"
      },
      "execution_count": null,
      "outputs": []
    },
    {
      "cell_type": "code",
      "source": [
        "sorted_similarities"
      ],
      "metadata": {
        "id": "ccq8oUGHR0Tz"
      },
      "execution_count": null,
      "outputs": []
    },
    {
      "cell_type": "code",
      "source": [
        "print(np.where(data.index=='1984')[0][0])"
      ],
      "metadata": {
        "id": "2Wjuc14_XwWB"
      },
      "execution_count": null,
      "outputs": []
    },
    {
      "cell_type": "code",
      "source": [
        "df.columns"
      ],
      "metadata": {
        "id": "GLk-WPuimrlX"
      },
      "execution_count": null,
      "outputs": []
    },
    {
      "cell_type": "code",
      "source": [
        "data.shape"
      ],
      "metadata": {
        "id": "O1JFYIu5HUiO"
      },
      "execution_count": null,
      "outputs": []
    },
    {
      "cell_type": "code",
      "source": [
        "import numpy as np\n",
        "import pandas as pd\n",
        "\n",
        "def recommend(book_name, data, similarity, merge_df1):\n",
        "    # Normalize book name for matching\n",
        "    book_name = book_name.strip().lower()\n",
        "\n",
        "    # Normalize data index\n",
        "    data.index = data.index.str.strip().str.lower()\n",
        "\n",
        "    # Check if book exists in index\n",
        "    if book_name not in data.index:\n",
        "        print(f\"'{book_name}' not found in dataset index.\")\n",
        "        return []\n",
        "\n",
        "    # Fetch index of the book\n",
        "    index = np.where(data.index == book_name)[0][0]\n",
        "\n",
        "    # Ensure similarity matrix shape matches data\n",
        "    if similarity.shape[0] != len(data):\n",
        "        print(\"Warning: Similarity matrix size doesn't match dataset!\")\n",
        "        return []\n",
        "\n",
        "    # Get top 5 similar books using argsort (excluding itself)\n",
        "    similar_indices = np.argsort(-similarity[index])[1:6]  # Negative for descending sort\n",
        "\n",
        "    # Get book titles safely\n",
        "    book_titles = data.iloc[similar_indices].index.tolist()\n",
        "\n",
        "    # Debugging logs\n",
        "    print(f\"Recommendations for '{book_name}': {book_titles}\")\n",
        "\n",
        "    # Normalize book titles for matching\n",
        "    merge_df1[\"Book-Title\"] = merge_df1[\"Book-Title\"].str.strip().str.lower()\n",
        "    book_titles = [title.lower() for title in book_titles]\n",
        "\n",
        "    # Filter books in DataFrame\n",
        "    info = merge_df1[merge_df1[\"Book-Title\"].isin(book_titles)][[\"Book-Title\", \"Book-Author\", \"Year-Of-Publication\", \"ISBN\"]]\n",
        "\n",
        "    # Ensure no duplicates in recommendations\n",
        "    return info.drop_duplicates(subset=\"Book-Title\", keep=\"first\").to_dict(orient=\"records\")\n"
      ],
      "metadata": {
        "id": "BdqmIb9kT81w"
      },
      "execution_count": null,
      "outputs": []
    },
    {
      "cell_type": "code",
      "source": [
        "recommend('animal farm',data, similarity, merge_df1)"
      ],
      "metadata": {
        "id": "8JBLLJSYY0Rm"
      },
      "execution_count": null,
      "outputs": []
    },
    {
      "cell_type": "code",
      "source": [
        "book"
      ],
      "metadata": {
        "id": "HCe8mOy0kSPC"
      },
      "execution_count": null,
      "outputs": []
    },
    {
      "cell_type": "code",
      "source": [
        "d=book.merge(Rating,on='ISBN')\n",
        "d"
      ],
      "metadata": {
        "id": "CJhUsq2njiwG"
      },
      "execution_count": null,
      "outputs": []
    },
    {
      "cell_type": "code",
      "source": [
        "d['Book-Title'].value_counts().sort_values(ascending=False)"
      ],
      "metadata": {
        "id": "rjUXlfZwkusU"
      },
      "execution_count": null,
      "outputs": []
    },
    {
      "cell_type": "markdown",
      "source": [
        "### **Saving model for deployment purpose**"
      ],
      "metadata": {
        "id": "54jDD589rqti"
      }
    },
    {
      "cell_type": "code",
      "source": [
        "import pickle\n",
        "\n",
        "pickle_filename = 'recommend.pkl'  # Save as a .pkl file\n",
        "\n",
        "data_to_save = {\n",
        "    \"data\": data,  # Ensure data is a DataFrame or dictionary\n",
        "    \"merge_df1\": merge_df1,\n",
        "    \"similarity\": similarity,  # If needed for the recommendation function\n",
        "}\n",
        "\n",
        "# Save the model and functions to a pickle file\n",
        "with open(pickle_filename, 'wb') as file:#pickle.dump(model, open(\"RandomForestModel.pkl\", \"wb\"))\n",
        "\n",
        "    pickle.dump(data_to_save, file)\n",
        "\n",
        "print(f\"✅ Model saved to {pickle_filename}\")\n"
      ],
      "metadata": {
        "id": "DPJbs21IH0re"
      },
      "execution_count": null,
      "outputs": []
    }
  ]
}